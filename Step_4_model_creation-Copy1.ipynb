{
 "cells": [
  {
   "cell_type": "code",
   "execution_count": 1,
   "id": "46d8070f",
   "metadata": {},
   "outputs": [],
   "source": [
    "# Importing all the Required Libraries\n",
    "import pandas as pd\n",
    "import numpy as np\n",
    "import warnings"
   ]
  },
  {
   "cell_type": "code",
   "execution_count": 2,
   "id": "a2350413",
   "metadata": {},
   "outputs": [],
   "source": [
    "df = pd.read_csv('one_hot_encoded.csv')"
   ]
  },
  {
   "cell_type": "code",
   "execution_count": 3,
   "id": "a296da7d",
   "metadata": {},
   "outputs": [
    {
     "name": "stdout",
     "output_type": "stream",
     "text": [
      "<class 'pandas.core.frame.DataFrame'>\n",
      "RangeIndex: 119479 entries, 0 to 119478\n",
      "Data columns (total 46 columns):\n",
      " #   Column                 Non-Null Count   Dtype  \n",
      "---  ------                 --------------   -----  \n",
      " 0   Unnamed: 0             119479 non-null  int64  \n",
      " 1   distance               119479 non-null  float64\n",
      " 2   avg_travel_time        119477 non-null  float64\n",
      " 3   temp                   119479 non-null  float64\n",
      " 4   clouds                 119479 non-null  float64\n",
      " 5   pressure               119479 non-null  float64\n",
      " 6   rain                   119479 non-null  float64\n",
      " 7   humidity               119479 non-null  float64\n",
      " 8   wind                   119479 non-null  float64\n",
      " 9   price                  119479 non-null  float64\n",
      " 10  surge_multiplier_1.0   119479 non-null  int64  \n",
      " 11  surge_multiplier_1.25  119479 non-null  int64  \n",
      " 12  surge_multiplier_1.5   119479 non-null  int64  \n",
      " 13  surge_multiplier_1.75  119479 non-null  int64  \n",
      " 14  surge_multiplier_2.0   119479 non-null  int64  \n",
      " 15  surge_multiplier_2.5   119479 non-null  int64  \n",
      " 16  surge_multiplier_3.0   119479 non-null  int64  \n",
      " 17  cab_type_Lyft          119479 non-null  int64  \n",
      " 18  cab_type_Uber          119479 non-null  int64  \n",
      " 19  name_Black             119479 non-null  int64  \n",
      " 20  name_Black SUV         119479 non-null  int64  \n",
      " 21  name_Lux               119479 non-null  int64  \n",
      " 22  name_Lux Black         119479 non-null  int64  \n",
      " 23  name_Lux Black XL      119479 non-null  int64  \n",
      " 24  name_Lyft              119479 non-null  int64  \n",
      " 25  name_Lyft XL           119479 non-null  int64  \n",
      " 26  name_Shared            119479 non-null  int64  \n",
      " 27  name_UberPool          119479 non-null  int64  \n",
      " 28  name_UberX             119479 non-null  int64  \n",
      " 29  name_UberXL            119479 non-null  int64  \n",
      " 30  name_WAV               119479 non-null  int64  \n",
      " 31  day_0                  119479 non-null  int64  \n",
      " 32  day_1                  119479 non-null  int64  \n",
      " 33  day_2                  119479 non-null  int64  \n",
      " 34  day_3                  119479 non-null  int64  \n",
      " 35  day_4                  119479 non-null  int64  \n",
      " 36  day_5                  119479 non-null  int64  \n",
      " 37  day_6                  119479 non-null  int64  \n",
      " 38  class_hour_0           119479 non-null  int64  \n",
      " 39  class_hour_1           119479 non-null  int64  \n",
      " 40  class_hour_2           119479 non-null  int64  \n",
      " 41  class_hour_3           119479 non-null  int64  \n",
      " 42  class_hour_4           119479 non-null  int64  \n",
      " 43  class_hour_5           119479 non-null  int64  \n",
      " 44  class_hour_6           119479 non-null  int64  \n",
      " 45  class_hour_7           119479 non-null  int64  \n",
      "dtypes: float64(9), int64(37)\n",
      "memory usage: 41.9 MB\n"
     ]
    }
   ],
   "source": [
    "df.info()"
   ]
  },
  {
   "cell_type": "code",
   "execution_count": 4,
   "id": "5a22d8cd",
   "metadata": {},
   "outputs": [
    {
     "data": {
      "text/html": [
       "<div>\n",
       "<style scoped>\n",
       "    .dataframe tbody tr th:only-of-type {\n",
       "        vertical-align: middle;\n",
       "    }\n",
       "\n",
       "    .dataframe tbody tr th {\n",
       "        vertical-align: top;\n",
       "    }\n",
       "\n",
       "    .dataframe thead th {\n",
       "        text-align: right;\n",
       "    }\n",
       "</style>\n",
       "<table border=\"1\" class=\"dataframe\">\n",
       "  <thead>\n",
       "    <tr style=\"text-align: right;\">\n",
       "      <th></th>\n",
       "      <th>Unnamed: 0</th>\n",
       "      <th>distance</th>\n",
       "      <th>avg_travel_time</th>\n",
       "      <th>temp</th>\n",
       "      <th>clouds</th>\n",
       "      <th>pressure</th>\n",
       "      <th>rain</th>\n",
       "      <th>humidity</th>\n",
       "      <th>wind</th>\n",
       "      <th>price</th>\n",
       "      <th>...</th>\n",
       "      <th>day_5</th>\n",
       "      <th>day_6</th>\n",
       "      <th>class_hour_0</th>\n",
       "      <th>class_hour_1</th>\n",
       "      <th>class_hour_2</th>\n",
       "      <th>class_hour_3</th>\n",
       "      <th>class_hour_4</th>\n",
       "      <th>class_hour_5</th>\n",
       "      <th>class_hour_6</th>\n",
       "      <th>class_hour_7</th>\n",
       "    </tr>\n",
       "  </thead>\n",
       "  <tbody>\n",
       "    <tr>\n",
       "      <th>count</th>\n",
       "      <td>119479.000000</td>\n",
       "      <td>119479.000000</td>\n",
       "      <td>119477.000000</td>\n",
       "      <td>119479.000000</td>\n",
       "      <td>1.194790e+05</td>\n",
       "      <td>1.194790e+05</td>\n",
       "      <td>1.194790e+05</td>\n",
       "      <td>1.194790e+05</td>\n",
       "      <td>1.194790e+05</td>\n",
       "      <td>119479.000000</td>\n",
       "      <td>...</td>\n",
       "      <td>119479.000000</td>\n",
       "      <td>119479.000000</td>\n",
       "      <td>119479.000000</td>\n",
       "      <td>119479.000000</td>\n",
       "      <td>119479.000000</td>\n",
       "      <td>119479.000000</td>\n",
       "      <td>119479.000000</td>\n",
       "      <td>119479.000000</td>\n",
       "      <td>119479.000000</td>\n",
       "      <td>119479.000000</td>\n",
       "    </tr>\n",
       "    <tr>\n",
       "      <th>mean</th>\n",
       "      <td>59739.000000</td>\n",
       "      <td>-0.007389</td>\n",
       "      <td>-0.012957</td>\n",
       "      <td>0.015523</td>\n",
       "      <td>-8.183085e-17</td>\n",
       "      <td>-6.101156e-15</td>\n",
       "      <td>-2.124747e-01</td>\n",
       "      <td>1.299778e-15</td>\n",
       "      <td>-2.226560e-16</td>\n",
       "      <td>16.609671</td>\n",
       "      <td>...</td>\n",
       "      <td>0.128156</td>\n",
       "      <td>0.129554</td>\n",
       "      <td>0.131764</td>\n",
       "      <td>0.117150</td>\n",
       "      <td>0.108806</td>\n",
       "      <td>0.129303</td>\n",
       "      <td>0.130985</td>\n",
       "      <td>0.130508</td>\n",
       "      <td>0.120984</td>\n",
       "      <td>0.130500</td>\n",
       "    </tr>\n",
       "    <tr>\n",
       "      <th>std</th>\n",
       "      <td>34490.760744</td>\n",
       "      <td>0.973945</td>\n",
       "      <td>0.957521</td>\n",
       "      <td>0.960097</td>\n",
       "      <td>1.000004e+00</td>\n",
       "      <td>1.000004e+00</td>\n",
       "      <td>1.922082e-13</td>\n",
       "      <td>1.000004e+00</td>\n",
       "      <td>1.000004e+00</td>\n",
       "      <td>9.372271</td>\n",
       "      <td>...</td>\n",
       "      <td>0.334265</td>\n",
       "      <td>0.335814</td>\n",
       "      <td>0.338235</td>\n",
       "      <td>0.321601</td>\n",
       "      <td>0.311397</td>\n",
       "      <td>0.335536</td>\n",
       "      <td>0.337386</td>\n",
       "      <td>0.336863</td>\n",
       "      <td>0.326110</td>\n",
       "      <td>0.336854</td>\n",
       "    </tr>\n",
       "    <tr>\n",
       "      <th>min</th>\n",
       "      <td>0.000000</td>\n",
       "      <td>-1.914620</td>\n",
       "      <td>-2.009922</td>\n",
       "      <td>-2.232552</td>\n",
       "      <td>-2.145808e+00</td>\n",
       "      <td>-1.623761e+00</td>\n",
       "      <td>-2.124747e-01</td>\n",
       "      <td>-2.316056e+00</td>\n",
       "      <td>-1.828491e+00</td>\n",
       "      <td>2.500000</td>\n",
       "      <td>...</td>\n",
       "      <td>0.000000</td>\n",
       "      <td>0.000000</td>\n",
       "      <td>0.000000</td>\n",
       "      <td>0.000000</td>\n",
       "      <td>0.000000</td>\n",
       "      <td>0.000000</td>\n",
       "      <td>0.000000</td>\n",
       "      <td>0.000000</td>\n",
       "      <td>0.000000</td>\n",
       "      <td>0.000000</td>\n",
       "    </tr>\n",
       "    <tr>\n",
       "      <th>25%</th>\n",
       "      <td>29869.500000</td>\n",
       "      <td>-0.790205</td>\n",
       "      <td>-0.710320</td>\n",
       "      <td>-0.473523</td>\n",
       "      <td>-7.681913e-01</td>\n",
       "      <td>-7.677716e-01</td>\n",
       "      <td>-2.124747e-01</td>\n",
       "      <td>-7.629166e-01</td>\n",
       "      <td>-9.087062e-01</td>\n",
       "      <td>9.000000</td>\n",
       "      <td>...</td>\n",
       "      <td>0.000000</td>\n",
       "      <td>0.000000</td>\n",
       "      <td>0.000000</td>\n",
       "      <td>0.000000</td>\n",
       "      <td>0.000000</td>\n",
       "      <td>0.000000</td>\n",
       "      <td>0.000000</td>\n",
       "      <td>0.000000</td>\n",
       "      <td>0.000000</td>\n",
       "      <td>0.000000</td>\n",
       "    </tr>\n",
       "    <tr>\n",
       "      <th>50%</th>\n",
       "      <td>59739.000000</td>\n",
       "      <td>-0.025954</td>\n",
       "      <td>-0.119592</td>\n",
       "      <td>0.150295</td>\n",
       "      <td>2.890492e-01</td>\n",
       "      <td>-7.596476e-02</td>\n",
       "      <td>-2.124747e-01</td>\n",
       "      <td>-1.416609e-01</td>\n",
       "      <td>-4.932483e-02</td>\n",
       "      <td>13.500000</td>\n",
       "      <td>...</td>\n",
       "      <td>0.000000</td>\n",
       "      <td>0.000000</td>\n",
       "      <td>0.000000</td>\n",
       "      <td>0.000000</td>\n",
       "      <td>0.000000</td>\n",
       "      <td>0.000000</td>\n",
       "      <td>0.000000</td>\n",
       "      <td>0.000000</td>\n",
       "      <td>0.000000</td>\n",
       "      <td>0.000000</td>\n",
       "    </tr>\n",
       "    <tr>\n",
       "      <th>75%</th>\n",
       "      <td>89608.500000</td>\n",
       "      <td>0.650451</td>\n",
       "      <td>0.589281</td>\n",
       "      <td>0.699163</td>\n",
       "      <td>9.298010e-01</td>\n",
       "      <td>8.789078e-01</td>\n",
       "      <td>-2.124747e-01</td>\n",
       "      <td>9.843650e-01</td>\n",
       "      <td>7.954132e-01</td>\n",
       "      <td>22.500000</td>\n",
       "      <td>...</td>\n",
       "      <td>0.000000</td>\n",
       "      <td>0.000000</td>\n",
       "      <td>0.000000</td>\n",
       "      <td>0.000000</td>\n",
       "      <td>0.000000</td>\n",
       "      <td>0.000000</td>\n",
       "      <td>0.000000</td>\n",
       "      <td>0.000000</td>\n",
       "      <td>0.000000</td>\n",
       "      <td>0.000000</td>\n",
       "    </tr>\n",
       "    <tr>\n",
       "      <th>max</th>\n",
       "      <td>119478.000000</td>\n",
       "      <td>2.811436</td>\n",
       "      <td>2.538684</td>\n",
       "      <td>2.458193</td>\n",
       "      <td>1.057951e+00</td>\n",
       "      <td>1.868483e+00</td>\n",
       "      <td>-2.124747e-01</td>\n",
       "      <td>1.877420e+00</td>\n",
       "      <td>3.080690e+00</td>\n",
       "      <td>92.000000</td>\n",
       "      <td>...</td>\n",
       "      <td>1.000000</td>\n",
       "      <td>1.000000</td>\n",
       "      <td>1.000000</td>\n",
       "      <td>1.000000</td>\n",
       "      <td>1.000000</td>\n",
       "      <td>1.000000</td>\n",
       "      <td>1.000000</td>\n",
       "      <td>1.000000</td>\n",
       "      <td>1.000000</td>\n",
       "      <td>1.000000</td>\n",
       "    </tr>\n",
       "  </tbody>\n",
       "</table>\n",
       "<p>8 rows × 46 columns</p>\n",
       "</div>"
      ],
      "text/plain": [
       "          Unnamed: 0       distance  avg_travel_time           temp  \\\n",
       "count  119479.000000  119479.000000    119477.000000  119479.000000   \n",
       "mean    59739.000000      -0.007389        -0.012957       0.015523   \n",
       "std     34490.760744       0.973945         0.957521       0.960097   \n",
       "min         0.000000      -1.914620        -2.009922      -2.232552   \n",
       "25%     29869.500000      -0.790205        -0.710320      -0.473523   \n",
       "50%     59739.000000      -0.025954        -0.119592       0.150295   \n",
       "75%     89608.500000       0.650451         0.589281       0.699163   \n",
       "max    119478.000000       2.811436         2.538684       2.458193   \n",
       "\n",
       "             clouds      pressure          rain      humidity          wind  \\\n",
       "count  1.194790e+05  1.194790e+05  1.194790e+05  1.194790e+05  1.194790e+05   \n",
       "mean  -8.183085e-17 -6.101156e-15 -2.124747e-01  1.299778e-15 -2.226560e-16   \n",
       "std    1.000004e+00  1.000004e+00  1.922082e-13  1.000004e+00  1.000004e+00   \n",
       "min   -2.145808e+00 -1.623761e+00 -2.124747e-01 -2.316056e+00 -1.828491e+00   \n",
       "25%   -7.681913e-01 -7.677716e-01 -2.124747e-01 -7.629166e-01 -9.087062e-01   \n",
       "50%    2.890492e-01 -7.596476e-02 -2.124747e-01 -1.416609e-01 -4.932483e-02   \n",
       "75%    9.298010e-01  8.789078e-01 -2.124747e-01  9.843650e-01  7.954132e-01   \n",
       "max    1.057951e+00  1.868483e+00 -2.124747e-01  1.877420e+00  3.080690e+00   \n",
       "\n",
       "               price  ...          day_5          day_6   class_hour_0  \\\n",
       "count  119479.000000  ...  119479.000000  119479.000000  119479.000000   \n",
       "mean       16.609671  ...       0.128156       0.129554       0.131764   \n",
       "std         9.372271  ...       0.334265       0.335814       0.338235   \n",
       "min         2.500000  ...       0.000000       0.000000       0.000000   \n",
       "25%         9.000000  ...       0.000000       0.000000       0.000000   \n",
       "50%        13.500000  ...       0.000000       0.000000       0.000000   \n",
       "75%        22.500000  ...       0.000000       0.000000       0.000000   \n",
       "max        92.000000  ...       1.000000       1.000000       1.000000   \n",
       "\n",
       "        class_hour_1   class_hour_2   class_hour_3   class_hour_4  \\\n",
       "count  119479.000000  119479.000000  119479.000000  119479.000000   \n",
       "mean        0.117150       0.108806       0.129303       0.130985   \n",
       "std         0.321601       0.311397       0.335536       0.337386   \n",
       "min         0.000000       0.000000       0.000000       0.000000   \n",
       "25%         0.000000       0.000000       0.000000       0.000000   \n",
       "50%         0.000000       0.000000       0.000000       0.000000   \n",
       "75%         0.000000       0.000000       0.000000       0.000000   \n",
       "max         1.000000       1.000000       1.000000       1.000000   \n",
       "\n",
       "        class_hour_5   class_hour_6   class_hour_7  \n",
       "count  119479.000000  119479.000000  119479.000000  \n",
       "mean        0.130508       0.120984       0.130500  \n",
       "std         0.336863       0.326110       0.336854  \n",
       "min         0.000000       0.000000       0.000000  \n",
       "25%         0.000000       0.000000       0.000000  \n",
       "50%         0.000000       0.000000       0.000000  \n",
       "75%         0.000000       0.000000       0.000000  \n",
       "max         1.000000       1.000000       1.000000  \n",
       "\n",
       "[8 rows x 46 columns]"
      ]
     },
     "execution_count": 4,
     "metadata": {},
     "output_type": "execute_result"
    }
   ],
   "source": [
    "df.describe()"
   ]
  },
  {
   "cell_type": "code",
   "execution_count": 5,
   "id": "3ff8986d",
   "metadata": {},
   "outputs": [],
   "source": [
    "del df['Unnamed: 0']"
   ]
  },
  {
   "cell_type": "code",
   "execution_count": 6,
   "id": "ae07946b",
   "metadata": {},
   "outputs": [],
   "source": [
    "df.dropna(inplace=True)"
   ]
  },
  {
   "cell_type": "code",
   "execution_count": 7,
   "id": "13f07d38",
   "metadata": {},
   "outputs": [],
   "source": [
    "# storing the Dependent Variables in Y and Independent Variable in X\n",
    "x=df.drop(['price'],axis=1)\n",
    "y=df['price']"
   ]
  },
  {
   "cell_type": "code",
   "execution_count": 8,
   "id": "b29d6e6e",
   "metadata": {},
   "outputs": [
    {
     "data": {
      "text/plain": [
       "0          5.0\n",
       "1         13.5\n",
       "2          8.0\n",
       "3         16.5\n",
       "4          5.0\n",
       "          ... \n",
       "119474    27.5\n",
       "119475    22.5\n",
       "119476     8.5\n",
       "119477     8.5\n",
       "119478    26.0\n",
       "Name: price, Length: 119477, dtype: float64"
      ]
     },
     "execution_count": 8,
     "metadata": {},
     "output_type": "execute_result"
    }
   ],
   "source": [
    "y"
   ]
  },
  {
   "cell_type": "code",
   "execution_count": 9,
   "id": "31464ed4",
   "metadata": {},
   "outputs": [],
   "source": [
    "# Splitting the Data into Training set and Testing Set\n",
    "from sklearn.model_selection import train_test_split\n",
    "x_train,x_test,y_train,y_test=train_test_split(x,y,test_size=0.30,random_state=21)\n"
   ]
  },
  {
   "cell_type": "code",
   "execution_count": 10,
   "id": "aa7a7caa",
   "metadata": {},
   "outputs": [
    {
     "data": {
      "text/plain": [
       "((83633, 44), (35844, 44), (83633,), (35844,))"
      ]
     },
     "execution_count": 10,
     "metadata": {},
     "output_type": "execute_result"
    }
   ],
   "source": [
    "x_train.shape,x_test.shape,y_train.shape,y_test.shape"
   ]
  },
  {
   "cell_type": "code",
   "execution_count": 11,
   "id": "ec3f902c",
   "metadata": {},
   "outputs": [
    {
     "data": {
      "text/plain": [
       "Index(['distance', 'avg_travel_time', 'temp', 'clouds', 'pressure', 'rain',\n",
       "       'humidity', 'wind', 'surge_multiplier_1.0', 'surge_multiplier_1.25',\n",
       "       'surge_multiplier_1.5', 'surge_multiplier_1.75', 'surge_multiplier_2.0',\n",
       "       'surge_multiplier_2.5', 'surge_multiplier_3.0', 'cab_type_Lyft',\n",
       "       'cab_type_Uber', 'name_Black', 'name_Black SUV', 'name_Lux',\n",
       "       'name_Lux Black', 'name_Lux Black XL', 'name_Lyft', 'name_Lyft XL',\n",
       "       'name_Shared', 'name_UberPool', 'name_UberX', 'name_UberXL', 'name_WAV',\n",
       "       'day_0', 'day_1', 'day_2', 'day_3', 'day_4', 'day_5', 'day_6',\n",
       "       'class_hour_0', 'class_hour_1', 'class_hour_2', 'class_hour_3',\n",
       "       'class_hour_4', 'class_hour_5', 'class_hour_6', 'class_hour_7'],\n",
       "      dtype='object')"
      ]
     },
     "execution_count": 11,
     "metadata": {},
     "output_type": "execute_result"
    }
   ],
   "source": [
    "x_train.columns"
   ]
  },
  {
   "cell_type": "code",
   "execution_count": null,
   "id": "ab78c381",
   "metadata": {},
   "outputs": [],
   "source": [
    "# a={'Model Name':[], 'Mean_Absolute_Error_MAE':[] ,'Adj_R_Square':[] ,'Root_Mean_Squared_Error_RMSE':[] ,'Mean_Absolute_Percentage_Error_MAPE':[] ,'Mean_Squared_Error_MSE':[] ,'Root_Mean_Squared_Log_Error_RMSLE':[] ,'R2_score':[]}\n",
    "# Results=pd.DataFrame(a)\n",
    "# Results.head()"
   ]
  },
  {
   "cell_type": "markdown",
   "id": "56083023",
   "metadata": {},
   "source": [
    "# linear Regression"
   ]
  },
  {
   "cell_type": "code",
   "execution_count": 20,
   "id": "e607bb95",
   "metadata": {},
   "outputs": [
    {
     "name": "stdout",
     "output_type": "stream",
     "text": [
      "Linear regression\n",
      "Mean Squared Error: 6.3472157599702745\n",
      "r2_score:  0.9279558248467293\n",
      "train accuracy 92.8179511012544\n",
      "test accuracy 92.79558248467293\n"
     ]
    }
   ],
   "source": [
    "from sklearn.linear_model import LinearRegression\n",
    "from sklearn import metrics\n",
    "from sklearn.metrics import mean_squared_error,r2_score\n",
    "\n",
    "model = LinearRegression()\n",
    "\n",
    "# Fit the model on the training data\n",
    "model.fit(x_train, y_train)\n",
    "\n",
    "# Make predictions on the test data\n",
    "y_pred = model.predict(x_test)\n",
    "\n",
    "# Calculate the Mean Squared Error\n",
    "mse = mean_squared_error(y_test, y_pred)\n",
    "\n",
    "print('Linear regression')\n",
    "\n",
    "# Print the Mean Squared Error\n",
    "print(\"Mean Squared Error:\", mse)\n",
    "\n",
    "R2_score = r2_score(y_test, y_pred)\n",
    "print('r2_score: ',R2_score)\n",
    "print('train accuracy',model.score(x_train,y_train)*100)\n",
    "print('test accuracy',model.score(x_test,y_test)*100)\n"
   ]
  },
  {
   "cell_type": "markdown",
   "id": "84f4d45c",
   "metadata": {},
   "source": [
    "# Decision tree using feature selection"
   ]
  },
  {
   "cell_type": "code",
   "execution_count": 27,
   "id": "2bf23f41",
   "metadata": {},
   "outputs": [
    {
     "name": "stdout",
     "output_type": "stream",
     "text": [
      "Selected features: Index(['distance', 'surge_multiplier_1.0', 'name_Black', 'name_Black SUV',\n",
      "       'name_Lux', 'name_Lux Black', 'name_Lux Black XL', 'name_Lyft XL',\n",
      "       'name_UberXL'],\n",
      "      dtype='object')\n"
     ]
    }
   ],
   "source": [
    "from sklearn.tree import DecisionTreeRegressor\n",
    "from sklearn.feature_selection import SelectFromModel\n",
    "\n",
    "# Create and train the DecisionTreeRegressor\n",
    "regressor = DecisionTreeRegressor(random_state=21)\n",
    "regressor.fit(x_train, y_train)\n",
    "\n",
    "# Use SelectFromModel for feature selection\n",
    "selector = SelectFromModel(regressor, threshold='mean')\n",
    "selector.fit(x_train, y_train)\n",
    "\n",
    "# Transform the training and testing data to selected features\n",
    "x_train_selected = selector.transform(x_train)\n",
    "x_test_selected = selector.transform(x_test)\n",
    "\n",
    "# Now you can use x_train_selected and x_test_selected for training and testing\n",
    "\n",
    "# Print the selected features\n",
    "selected_features = x_train.columns[selector.get_support()]\n",
    "print('Selected features:', selected_features)\n"
   ]
  },
  {
   "cell_type": "markdown",
   "id": "454a85f4",
   "metadata": {},
   "source": [
    "# Decision tree using all features"
   ]
  },
  {
   "cell_type": "code",
   "execution_count": 29,
   "id": "3ffcacb5",
   "metadata": {},
   "outputs": [
    {
     "name": "stdout",
     "output_type": "stream",
     "text": [
      "Decision Tree Regression with Selected Features\n",
      "R-squared (R2) score with selected features: 0.9443603278282421\n",
      "Mean Squared Error (MSE) with selected features: 4.901950828596987\n",
      "Train accuracy with selected features: 95.72363096313539\n",
      "Test accuracy with selected features: 94.43603278282421\n"
     ]
    }
   ],
   "source": [
    "from sklearn.tree import DecisionTreeRegressor\n",
    "from sklearn.metrics import r2_score, mean_squared_error\n",
    "\n",
    "# Create and train the DecisionTreeRegressor using selected features\n",
    "regressor_selected = DecisionTreeRegressor(random_state=21)\n",
    "regressor_selected.fit(x_train_selected, y_train)\n",
    "\n",
    "# Make predictions using selected features\n",
    "y_pred_selected = regressor_selected.predict(x_test_selected)\n",
    "\n",
    "print('Decision Tree Regression with Selected Features')\n",
    "# Calculate R2 score\n",
    "r2_selected = r2_score(y_test, y_pred_selected)\n",
    "print(\"R-squared (R2) score with selected features:\", r2_selected)\n",
    "\n",
    "# Calculate MSE\n",
    "mse_selected = mean_squared_error(y_test, y_pred_selected)\n",
    "print(\"Mean Squared Error (MSE) with selected features:\", mse_selected)\n",
    "\n",
    "# Calculate train and test accuracy\n",
    "train_accuracy_selected = regressor_selected.score(x_train_selected, y_train) * 100\n",
    "test_accuracy_selected = regressor_selected.score(x_test_selected, y_test) * 100\n",
    "print('Train accuracy with selected features:', train_accuracy_selected)\n",
    "print('Test accuracy with selected features:', test_accuracy_selected)\n"
   ]
  },
  {
   "cell_type": "code",
   "execution_count": 21,
   "id": "ba7b8373",
   "metadata": {},
   "outputs": [
    {
     "name": "stdout",
     "output_type": "stream",
     "text": [
      "decision tree\n",
      "R-squared (R2) score: 0.9589718898228412\n",
      "Mean Squared Error (MSE): 3.6146470823524517\n",
      "train accuracy 92.8179511012544\n",
      "test accuracy 92.79558248467293\n"
     ]
    }
   ],
   "source": [
    "\n",
    "from sklearn.tree import DecisionTreeRegressor\n",
    "\n",
    "\n",
    "# Create and train the DecisionTreeRegressor\n",
    "regressor = DecisionTreeRegressor(random_state=21)\n",
    "regressor.fit(x_train, y_train)\n",
    "\n",
    "# Make predictions\n",
    "y_pred = regressor.predict(x_test)\n",
    "\n",
    "\n",
    "print('decision tree')\n",
    "# Calculate R2 score\n",
    "r2 = r2_score(y_test, y_pred)\n",
    "print(\"R-squared (R2) score:\", r2)\n",
    "\n",
    "# Calculate MSE\n",
    "mse = mean_squared_error(y_test, y_pred)\n",
    "print(\"Mean Squared Error (MSE):\", mse)\n",
    "\n",
    "print('train accuracy',model.score(x_train,y_train)*100)\n",
    "print('test accuracy',model.score(x_test,y_test)*100)\n"
   ]
  },
  {
   "cell_type": "code",
   "execution_count": 22,
   "id": "f7b63544",
   "metadata": {},
   "outputs": [
    {
     "name": "stdout",
     "output_type": "stream",
     "text": [
      "Random Forest\n",
      "Mean Squared Error: 2.1385003351217056\n",
      "R-squared score: 0.9757269173547746\n",
      "train accuracy 99.58627041093214\n",
      "test accuracy 97.57269173547746\n"
     ]
    }
   ],
   "source": [
    "from sklearn.ensemble import RandomForestRegressor\n",
    "\n",
    "# Initialize the Random Forest Regressor model\n",
    "model = RandomForestRegressor(n_estimators=100, random_state=21)\n",
    "\n",
    "# Fit the model on the training data\n",
    "model.fit(x_train, y_train)\n",
    "\n",
    "# Make predictions on the test data\n",
    "y_pred = model.predict(x_test)\n",
    "\n",
    "# Calculate the Mean Squared Error\n",
    "mse = mean_squared_error(y_test, y_pred)\n",
    "\n",
    "# Calculate the R-squared score\n",
    "R2_score = r2_score(y_test, y_pred)\n",
    "\n",
    "print('Random Forest')\n",
    "\n",
    "# Print the Mean Squared Error and R-squared score\n",
    "print(\"Mean Squared Error:\", mse)\n",
    "print(\"R-squared score:\", R2_score)\n",
    "print('train accuracy',model.score(x_train,y_train)*100)\n",
    "print('test accuracy',model.score(x_test,y_test)*100)\n"
   ]
  },
  {
   "cell_type": "markdown",
   "id": "6a67f7a7",
   "metadata": {},
   "source": [
    "# KNN"
   ]
  },
  {
   "cell_type": "code",
   "execution_count": 23,
   "id": "c3344a1b",
   "metadata": {},
   "outputs": [
    {
     "name": "stdout",
     "output_type": "stream",
     "text": [
      "K nearest neighbour\n",
      "Mean Squared Error: 7.49306411114831\n",
      "R-squared score: 0.9149498546019518\n",
      "train accuracy 94.70032883822813\n",
      "test accuracy 91.49498546019518\n"
     ]
    }
   ],
   "source": [
    "from sklearn.neighbors import KNeighborsRegressor\n",
    "\n",
    "\n",
    "# Initialize the K-Nearest Neighbors Regressor model\n",
    "model = KNeighborsRegressor(n_neighbors=5)  \n",
    "\n",
    "# Fit the model on the training data\n",
    "model.fit(x_train, y_train)\n",
    "\n",
    "# Make predictions on the test data\n",
    "y_pred = model.predict(x_test)\n",
    "\n",
    "# Calculate the Mean Squared Error\n",
    "mse = mean_squared_error(y_test, y_pred)\n",
    "\n",
    "# Calculate the R-squared score\n",
    "R2_score = r2_score(y_test, y_pred)\n",
    "\n",
    "print('K nearest neighbour')\n",
    "\n",
    "# Print the Mean Squared Error and R-squared score\n",
    "print(\"Mean Squared Error:\", mse)\n",
    "print(\"R-squared score:\", R2_score)\n",
    "\n",
    "print('train accuracy',model.score(x_train,y_train)*100)\n",
    "print('test accuracy',model.score(x_test,y_test)*100)\n"
   ]
  },
  {
   "cell_type": "markdown",
   "id": "f7319e18",
   "metadata": {},
   "source": [
    "# Lasso and Ridge"
   ]
  },
  {
   "cell_type": "code",
   "execution_count": 13,
   "id": "5b150415",
   "metadata": {},
   "outputs": [
    {
     "name": "stdout",
     "output_type": "stream",
     "text": [
      "Best alpha: 0.01\n"
     ]
    }
   ],
   "source": [
    "from sklearn.linear_model import Lasso\n",
    "from sklearn.model_selection import train_test_split\n",
    "from sklearn.metrics import mean_squared_error\n",
    "import numpy as np\n",
    "\n",
    "\n",
    "# Define a range of alpha values to search over\n",
    "alpha_values = [0.01, 0.1, 1.0, 10.0]\n",
    "\n",
    "best_alpha = None\n",
    "best_mse = np.inf\n",
    "\n",
    "for alpha in alpha_values:\n",
    "    # Create Lasso regression model with the current alpha\n",
    "    lasso_model = Lasso(alpha=alpha)\n",
    "    \n",
    "    # Fit the model on the training data\n",
    "    lasso_model.fit(x_train, y_train)\n",
    "    \n",
    "    # Make predictions on the validation set\n",
    "    y_pred = lasso_model.predict(x_test)\n",
    "    \n",
    "    # Calculate mean squared error\n",
    "    mse = mean_squared_error(y_test, y_pred)\n",
    "    \n",
    "    # Update best alpha if the current model performs better\n",
    "    if mse < best_mse:\n",
    "        best_mse = mse\n",
    "        best_alpha = alpha\n",
    "\n",
    "print(\"Best alpha:\", best_alpha)\n"
   ]
  },
  {
   "cell_type": "code",
   "execution_count": 24,
   "id": "6b4878a0",
   "metadata": {},
   "outputs": [
    {
     "name": "stdout",
     "output_type": "stream",
     "text": [
      "Lasso\n",
      "Mean Squared Error: 6.463697902703248\n",
      "R-squared score: 0.9266336924014756\n",
      "train accuracy 92.70232509438789\n",
      "test accuracy 92.66336924014756\n"
     ]
    }
   ],
   "source": [
    "from sklearn.linear_model import Lasso\n",
    "\n",
    "alpha =0.01 \n",
    "model = Lasso(alpha=alpha)\n",
    "\n",
    "# Fit the model on the training data\n",
    "model.fit(x_train, y_train)\n",
    "\n",
    "# Make predictions on the test data\n",
    "y_pred = model.predict(x_test)\n",
    "\n",
    "# Calculate the Mean Squared Error\n",
    "mse = mean_squared_error(y_test, y_pred)\n",
    "\n",
    "# Calculate the R-squared score\n",
    "r2 = r2_score(y_test, y_pred)\n",
    "\n",
    "print('Lasso')\n",
    "# Print the Mean Squared Error and R-squared score\n",
    "print(\"Mean Squared Error:\", mse)\n",
    "print(\"R-squared score:\", r2)\n",
    "print('train accuracy',model.score(x_train,y_train)*100)\n",
    "print('test accuracy',model.score(x_test,y_test)*100)\n"
   ]
  },
  {
   "cell_type": "code",
   "execution_count": 25,
   "id": "17f95e37",
   "metadata": {},
   "outputs": [
    {
     "name": "stdout",
     "output_type": "stream",
     "text": [
      "Ridge\n",
      "Mean Squared Error: 6.347048845858916\n",
      "R-squared score: 0.9279577194080503\n",
      "train accuracy 92.81685490201552\n",
      "test accuracy 92.79577194080503\n"
     ]
    }
   ],
   "source": [
    "from sklearn.linear_model import Ridge\n",
    "\n",
    "alpha = 1.0  \n",
    "model = Ridge(alpha=alpha)\n",
    "\n",
    "# Fit the model on the training data\n",
    "model.fit(x_train, y_train)\n",
    "\n",
    "# Make predictions on the test data\n",
    "y_pred = model.predict(x_test)\n",
    "\n",
    "# Calculate the Mean Squared Error\n",
    "mse = mean_squared_error(y_test, y_pred)\n",
    "\n",
    "# Calculate the R-squared score\n",
    "R2_score = r2_score(y_test, y_pred)\n",
    "\n",
    "print('Ridge')\n",
    "\n",
    "# Print the Mean Squared Error and R-squared score\n",
    "print(\"Mean Squared Error:\", mse)\n",
    "print(\"R-squared score:\", R2_score)\n",
    "print('train accuracy',model.score(x_train,y_train)*100)\n",
    "print('test accuracy',model.score(x_test,y_test)*100)"
   ]
  },
  {
   "cell_type": "markdown",
   "id": "4641f262",
   "metadata": {},
   "source": [
    "# XGBoost"
   ]
  },
  {
   "cell_type": "code",
   "execution_count": 26,
   "id": "0641eeb9",
   "metadata": {},
   "outputs": [
    {
     "name": "stdout",
     "output_type": "stream",
     "text": [
      "XGBoost\n",
      "Mean Squared Error: 2.8460640313005316\n",
      "R-squared score: 0.9676957041760623\n",
      "train accuracy 97.10455353279993\n",
      "test accuracy 96.76957041760623\n"
     ]
    }
   ],
   "source": [
    "import xgboost as xgb\n",
    "from xgboost import XGBRegressor\n",
    "from sklearn.metrics import mean_squared_error, r2_score\n",
    "\n",
    "# Initialize the XGBoost Regressor model\n",
    "model = xgb.XGBRegressor(objective=\"reg:squarederror\",n_estimators=60)\n",
    "\n",
    "# Fit the model on the training data\n",
    "model.fit(x_train, y_train)\n",
    "\n",
    "# Make predictions on the test data\n",
    "y_pred = model.predict(x_test)\n",
    "\n",
    "# Calculate the Mean Squared Error\n",
    "mse = mean_squared_error(y_test, y_pred)\n",
    "\n",
    "# Calculate the R-squared score\n",
    "r2 = r2_score(y_test, y_pred)\n",
    "\n",
    "print('XGBoost')\n",
    "\n",
    "# Print the Mean Squared Error and R-squared score\n",
    "print(\"Mean Squared Error:\", mse)\n",
    "print(\"R-squared score:\", r2)\n",
    "print('train accuracy',model.score(x_train,y_train)*100)\n",
    "print('test accuracy',model.score(x_test,y_test)*100)\n",
    "\n"
   ]
  },
  {
   "cell_type": "code",
   "execution_count": null,
   "id": "a6804dd1",
   "metadata": {},
   "outputs": [],
   "source": [
    "\n"
   ]
  },
  {
   "cell_type": "code",
   "execution_count": null,
   "id": "9745c35c",
   "metadata": {},
   "outputs": [],
   "source": []
  },
  {
   "cell_type": "code",
   "execution_count": null,
   "id": "b61a6e3a",
   "metadata": {},
   "outputs": [],
   "source": [
    "import numpy as np\n",
    "import pandas as pd\n",
    "from sklearn.model_selection import train_test_split, GridSearchCV\n",
    "from xgboost import XGBClassifier\n",
    "from sklearn.metrics import accuracy_score\n",
    "\n",
    "\n",
    "\n",
    "\n",
    "# Define the parameter grid to search\n",
    "param_grid = {\n",
    "    'learning_rate': [0.01, 0.1, 0.2],\n",
    "    'max_depth': [3, 5, 7],\n",
    "    'subsample': [0.8, 0.9, 1.0],\n",
    "    'n_estimators': [50, 70, 100]\n",
    "}\n",
    "\n",
    "# Initialize the XGBoost classifier\n",
    "xgb_model = XGBRegressor()\n",
    "\n",
    "# Initialize the GridSearchCV object\n",
    "grid_search = GridSearchCV(estimator=xgb_model, param_grid=param_grid, scoring='accuracy', cv=3, verbose=2)\n",
    "\n",
    "# Perform grid search on the training data\n",
    "grid_search.fit(x_train, y_train)\n",
    "\n",
    "# Get the best parameters and the best estimator\n",
    "best_params = grid_search.best_params_\n",
    "best_model = grid_search.best_estimator_\n",
    "\n",
    "# Make predictions on the test set using the best model\n",
    "y_pred = best_model.predict(x_test)\n",
    "\n",
    "# Calculate accuracy\n",
    "accuracy = accuracy_score(y_test, y_pred)\n",
    "print(\"Best Parameters:\", best_params)\n",
    "print(\"Test Accuracy:\", accuracy)\n"
   ]
  },
  {
   "cell_type": "code",
   "execution_count": null,
   "id": "9576c7e2",
   "metadata": {},
   "outputs": [],
   "source": []
  },
  {
   "cell_type": "code",
   "execution_count": null,
   "id": "154424bb",
   "metadata": {},
   "outputs": [],
   "source": [
    "selected_features_names"
   ]
  },
  {
   "cell_type": "code",
   "execution_count": null,
   "id": "e4dc4223",
   "metadata": {},
   "outputs": [],
   "source": []
  },
  {
   "cell_type": "code",
   "execution_count": null,
   "id": "8718ed4b",
   "metadata": {},
   "outputs": [],
   "source": []
  },
  {
   "cell_type": "code",
   "execution_count": null,
   "id": "2f89f8bb",
   "metadata": {},
   "outputs": [],
   "source": []
  }
 ],
 "metadata": {
  "kernelspec": {
   "display_name": "Python 3 (ipykernel)",
   "language": "python",
   "name": "python3"
  },
  "language_info": {
   "codemirror_mode": {
    "name": "ipython",
    "version": 3
   },
   "file_extension": ".py",
   "mimetype": "text/x-python",
   "name": "python",
   "nbconvert_exporter": "python",
   "pygments_lexer": "ipython3",
   "version": "3.10.9"
  }
 },
 "nbformat": 4,
 "nbformat_minor": 5
}
